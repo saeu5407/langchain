{
 "cells": [
  {
   "metadata": {
    "ExecuteTime": {
     "end_time": "2024-07-06T07:47:44.636356Z",
     "start_time": "2024-07-06T07:47:44.612155Z"
    }
   },
   "cell_type": "code",
   "source": [
    "from dotenv import load_dotenv\n",
    "\n",
    "load_dotenv()"
   ],
   "id": "4e2678453ab2e70f",
   "outputs": [
    {
     "data": {
      "text/plain": [
       "True"
      ]
     },
     "execution_count": 1,
     "metadata": {},
     "output_type": "execute_result"
    }
   ],
   "execution_count": 1
  },
  {
   "metadata": {},
   "cell_type": "markdown",
   "source": [
    "먼저 벡터스토어에 적용할 임의의 문서를 로드해보겠습니다.<br>\n",
    "\n",
    "langchain_core.documents.Document는 page_content, metadata를 입력으로 받을 수 있습니다.<br>\n",
    "예제에서는 몇 가지 다른 메타데이터를 가진 문서를 정의했습니다.<br>\n",
    "\n",
    "이 클래스 외에도 다양한 방법으로 문서를 로드할 수 있습니다."
   ],
   "id": "c6af4f74ad2cd65e"
  },
  {
   "metadata": {
    "ExecuteTime": {
     "end_time": "2024-07-06T07:47:45.131591Z",
     "start_time": "2024-07-06T07:47:44.639301Z"
    }
   },
   "cell_type": "code",
   "source": [
    "from langchain_core.documents import Document\n",
    "documents = [\n",
    "    Document(\n",
    "        page_content=\"Dogs are great companions, known for their loyalty and friendliness.\",\n",
    "        metadata={\"source\": \"mammal-pets-doc\"},\n",
    "    ),\n",
    "    Document(\n",
    "        page_content=\"Cats are independent pets that often enjoy their own space.\",\n",
    "        metadata={\"source\": \"mammal-pets-doc\"},\n",
    "    ),\n",
    "    Document(\n",
    "        page_content=\"Goldfish are popular pets for beginners, requiring relatively simple care.\",\n",
    "        metadata={\"source\": \"fish-pets-doc\"},\n",
    "    ),\n",
    "    Document(\n",
    "        page_content=\"Parrots are intelligent birds capable of mimicking human speech.\",\n",
    "        metadata={\"source\": \"bird-pets-doc\"},\n",
    "    ),\n",
    "    Document(\n",
    "        page_content=\"Rabbits are social animals that need plenty of space to hop around.\",\n",
    "        metadata={\"source\": \"mammal-pets-doc\"},\n",
    "    ),\n",
    "]"
   ],
   "id": "ff5d9b6d5a80f9f2",
   "outputs": [],
   "execution_count": 2
  },
  {
   "metadata": {},
   "cell_type": "markdown",
   "source": [
    "# Vector Store\n",
    "\n",
    "구조화되지 않은 텍스트 등을 저장하고 검색하는 일반적인 방법으로는 이 텍스트를 그대로 사용하는 것이 아닌 임베딩 방법을 통해 벡터화하여 유사도 분석 등을 통해 검색을 하는 방법이 있습니다.<br>\n",
    "\n",
    "LangChain VectorStore 객체는 Documnet 객체나 텍스트 등을 스토어에 추가하고 다양한 유사도 분석 메트릭을 사용하여 쿼리하는 방법을 가지고 있습니다.<br>\n",
    "\n",
    "LangChain은 다양한 벡터 스토어를 포함했으며, 클라우드에서 사용하는 벡터 스토어 등도 포함되어 있습니다.\n",
    "랭체인에서 사용할 수 있는 다양한 벡터스토어는 아래 링크에서 확인할 수 있습니다.<br>\n",
    "https://python.langchain.com/v0.2/docs/integrations/vectorstores/\n",
    "\n",
    "여기에서는 메모리 내 구현을 포함하는 Chroma를 사용하여 LangChain VectorStores의 사용 방법을 확인해보도록 하겠습니다.<br>\n",
    "\n",
    "벡터스토어를 사용하기 위해서는 텍스트를 임베딩 벡터로 변환하기 위한 임베딩 모델이 필요한데요. LangChain은 이러한 임베딩 모델도 다양하게 포함했습니다. 사용할 수 있는 임베딩들의 링크는 다음과 같습니다.<br>\n",
    "https://python.langchain.com/v0.2/docs/integrations/text_embedding/\n",
    "\n",
    "여기서는 OpenAI 임베딩을 사용하여 구현해보도록 하겠습니다."
   ],
   "id": "5504268ce32bdab2"
  },
  {
   "metadata": {
    "ExecuteTime": {
     "end_time": "2024-07-06T07:47:48.648561Z",
     "start_time": "2024-07-06T07:47:45.133388Z"
    }
   },
   "cell_type": "code",
   "source": [
    "from langchain_chroma import Chroma\n",
    "from langchain_openai import OpenAIEmbeddings\n",
    "\n",
    "vectorstore = Chroma.from_documents(\n",
    "    documents, # 정의해둔 문서를 사용\n",
    "    embedding=OpenAIEmbeddings(), # OpenAI 임베딩 사용\n",
    ")"
   ],
   "id": "9b7cdaf5f4ae18ef",
   "outputs": [],
   "execution_count": 3
  },
  {
   "metadata": {},
   "cell_type": "markdown",
   "source": [
    ".from_documents 메서드를 통해 문서를 벡터스토어에 등록할 수 있습니다.<br>\n",
    "인스턴스화 한 후에도 문서를 추가 등록하는 등의 다양한 방법은 아래 링크에서 확인할 수 있습니다.<br>\n",
    "https://api.python.langchain.com/en/latest/documents/langchain_core.documents.base.Document.html#langchain_core.documents.base.Document\n",
    "\n",
    "이렇게 문서가 포함된 벡터스토어를 인스턴스화하면 쿼리를 수행할 수 있으며 다음과 같은 쿼리 방법을 포함합니다.<br>\n",
    "\n",
    "- 동기식 및 비동기식\n",
    "- 문자열 쿼리별, 벡터별\n",
    "- 유사성 점수 반환 여부\n",
    "- 유사성 및 최대 한계 관련성 파라미터 설정\n",
    "\n",
    "메서드는 일반적으로 출력에 문서 객체 목록을 포함합니다."
   ],
   "id": "59e8251a45cb1540"
  },
  {
   "metadata": {},
   "cell_type": "markdown",
   "source": [
    "## Examples\n",
    "\n",
    "벡터스토어에 등록된 문서에 대해 유사도를 쿼리해보도록 하겠습니다"
   ],
   "id": "737ffda67e8c9e42"
  },
  {
   "metadata": {
    "ExecuteTime": {
     "end_time": "2024-07-06T07:47:48.932665Z",
     "start_time": "2024-07-06T07:47:48.650846Z"
    }
   },
   "cell_type": "code",
   "source": "vectorstore.similarity_search(\"cat\")",
   "id": "b30b385da50bc468",
   "outputs": [
    {
     "data": {
      "text/plain": [
       "[Document(page_content='Cats are independent pets that often enjoy their own space.', metadata={'source': 'mammal-pets-doc'}),\n",
       " Document(page_content='Dogs are great companions, known for their loyalty and friendliness.', metadata={'source': 'mammal-pets-doc'}),\n",
       " Document(page_content='Rabbits are social animals that need plenty of space to hop around.', metadata={'source': 'mammal-pets-doc'}),\n",
       " Document(page_content='Parrots are intelligent birds capable of mimicking human speech.', metadata={'source': 'bird-pets-doc'})]"
      ]
     },
     "execution_count": 4,
     "metadata": {},
     "output_type": "execute_result"
    }
   ],
   "execution_count": 4
  },
  {
   "metadata": {},
   "cell_type": "markdown",
   "source": "비동기식으로도 쿼리할 수 있습니다.",
   "id": "b5039e35bb62969e"
  },
  {
   "metadata": {
    "ExecuteTime": {
     "end_time": "2024-07-06T07:47:49.233663Z",
     "start_time": "2024-07-06T07:47:48.940013Z"
    }
   },
   "cell_type": "code",
   "source": "await vectorstore.asimilarity_search(\"cat\")",
   "id": "575cf723a3ee355c",
   "outputs": [
    {
     "data": {
      "text/plain": [
       "[Document(page_content='Cats are independent pets that often enjoy their own space.', metadata={'source': 'mammal-pets-doc'}),\n",
       " Document(page_content='Dogs are great companions, known for their loyalty and friendliness.', metadata={'source': 'mammal-pets-doc'}),\n",
       " Document(page_content='Rabbits are social animals that need plenty of space to hop around.', metadata={'source': 'mammal-pets-doc'}),\n",
       " Document(page_content='Parrots are intelligent birds capable of mimicking human speech.', metadata={'source': 'bird-pets-doc'})]"
      ]
     },
     "execution_count": 5,
     "metadata": {},
     "output_type": "execute_result"
    }
   ],
   "execution_count": 5
  },
  {
   "metadata": {},
   "cell_type": "markdown",
   "source": "유사도 점수도 쿼리할 수 있습니다",
   "id": "44f8d3b1614bcebf"
  },
  {
   "metadata": {
    "ExecuteTime": {
     "end_time": "2024-07-06T07:47:49.461113Z",
     "start_time": "2024-07-06T07:47:49.236525Z"
    }
   },
   "cell_type": "code",
   "source": [
    "# Note that providers implement different scores; Chroma here\n",
    "# returns a distance metric that should vary inversely with\n",
    "# similarity.\n",
    "\n",
    "vectorstore.similarity_search_with_score(\"cat\")"
   ],
   "id": "bc3f773b957c2982",
   "outputs": [
    {
     "data": {
      "text/plain": [
       "[(Document(page_content='Cats are independent pets that often enjoy their own space.', metadata={'source': 'mammal-pets-doc'}),\n",
       "  0.375326931476593),\n",
       " (Document(page_content='Dogs are great companions, known for their loyalty and friendliness.', metadata={'source': 'mammal-pets-doc'}),\n",
       "  0.4833090305328369),\n",
       " (Document(page_content='Rabbits are social animals that need plenty of space to hop around.', metadata={'source': 'mammal-pets-doc'}),\n",
       "  0.4958883225917816),\n",
       " (Document(page_content='Parrots are intelligent birds capable of mimicking human speech.', metadata={'source': 'bird-pets-doc'}),\n",
       "  0.4974174499511719)]"
      ]
     },
     "execution_count": 6,
     "metadata": {},
     "output_type": "execute_result"
    }
   ],
   "execution_count": 6
  },
  {
   "metadata": {},
   "cell_type": "markdown",
   "source": "임베딩 간 비교를 해보면 동일하다는 걸 확인할 수 있습니다.",
   "id": "7fb9cc572d826218"
  },
  {
   "metadata": {
    "ExecuteTime": {
     "end_time": "2024-07-06T07:47:49.961757Z",
     "start_time": "2024-07-06T07:47:49.465172Z"
    }
   },
   "cell_type": "code",
   "source": [
    "embedding = OpenAIEmbeddings().embed_query(\"cat\")\n",
    "vectorstore.similarity_search_by_vector(embedding)"
   ],
   "id": "4b15cb8d257f2b14",
   "outputs": [
    {
     "data": {
      "text/plain": [
       "[Document(page_content='Cats are independent pets that often enjoy their own space.', metadata={'source': 'mammal-pets-doc'}),\n",
       " Document(page_content='Dogs are great companions, known for their loyalty and friendliness.', metadata={'source': 'mammal-pets-doc'}),\n",
       " Document(page_content='Rabbits are social animals that need plenty of space to hop around.', metadata={'source': 'mammal-pets-doc'}),\n",
       " Document(page_content='Parrots are intelligent birds capable of mimicking human speech.', metadata={'source': 'bird-pets-doc'})]"
      ]
     },
     "execution_count": 7,
     "metadata": {},
     "output_type": "execute_result"
    }
   ],
   "execution_count": 7
  },
  {
   "metadata": {},
   "cell_type": "markdown",
   "source": [
    "벡터스토어에 대한 추가적인 자료는 공식 페이지에서 확인할 수 있습니다.\n",
    "\n",
    "https://api.python.langchain.com/en/latest/vectorstores/langchain_core.vectorstores.VectorStore.html\n",
    "https://python.langchain.com/v0.2/docs/how_to/vectorstores/\n"
   ],
   "id": "10a60f36b328fec3"
  },
  {
   "metadata": {},
   "cell_type": "markdown",
   "source": [
    "## 추가 예제\n",
    "\n",
    "공식 문서 외에 몇 가지 예제를 확인해보도록 하겠습니다.<br>\n",
    "\n",
    "벡터스토어를 사용한 서비스를 진행하다보면 중간에 문서를 추가해야하는 상황이 생기거나,<br>\n",
    "잠깐 벡터스토어를 셧다운 한 후에 다시 로드해야 할 경우가 있을 것 같다는 생각이 드는데요. \n",
    "이에 대해 알아보도록 하겠습니다."
   ],
   "id": "3c0617025e9ed77f"
  },
  {
   "metadata": {},
   "cell_type": "markdown",
   "source": [
    "### 벡터스토어에 문서 추가하기\n",
    "\n",
    "먼저 텍스트를 추가하는 방법입니다. 기존에는 Documents 클래스를 사용해서 문서를 만들었지만 저는 귀찮아서 add_text를 해보도록 하겠습니다.<br>\n",
    "동기적으로 추가하고자 add_texts를 사용해보았습니다.<br>\n",
    "add_texts, add_documents 뿐만 아니라 비동기 설정이 가능한 메서드등을 사용할 수 있습니다."
   ],
   "id": "7102af022189a1b3"
  },
  {
   "metadata": {
    "ExecuteTime": {
     "end_time": "2024-07-06T07:47:50.313594Z",
     "start_time": "2024-07-06T07:47:49.964600Z"
    }
   },
   "cell_type": "code",
   "source": "vectorstore.add_texts([\"Shrimps are so delicious\"])",
   "id": "810f34a264abd8e8",
   "outputs": [
    {
     "data": {
      "text/plain": [
       "['ba012058-40a3-4768-a126-48865b529e53']"
      ]
     },
     "execution_count": 8,
     "metadata": {},
     "output_type": "execute_result"
    }
   ],
   "execution_count": 8
  },
  {
   "metadata": {
    "ExecuteTime": {
     "end_time": "2024-07-06T07:47:50.625541Z",
     "start_time": "2024-07-06T07:47:50.315444Z"
    }
   },
   "cell_type": "code",
   "source": "await vectorstore.asimilarity_search(\"shrimp\")",
   "id": "261247d07320c025",
   "outputs": [
    {
     "data": {
      "text/plain": [
       "[Document(page_content='Shrimps are so delicious'),\n",
       " Document(page_content='Goldfish are popular pets for beginners, requiring relatively simple care.', metadata={'source': 'fish-pets-doc'}),\n",
       " Document(page_content='Parrots are intelligent birds capable of mimicking human speech.', metadata={'source': 'bird-pets-doc'}),\n",
       " Document(page_content='Rabbits are social animals that need plenty of space to hop around.', metadata={'source': 'mammal-pets-doc'})]"
      ]
     },
     "execution_count": 9,
     "metadata": {},
     "output_type": "execute_result"
    }
   ],
   "execution_count": 9
  },
  {
   "metadata": {},
   "cell_type": "markdown",
   "source": "### 벡터스토어 저장 및 로드하기",
   "id": "609975a7d90a7e77"
  },
  {
   "metadata": {},
   "cell_type": "markdown",
   "source": [
    "이번에는 벡터스토어를 잠깐 저장해두고 다시 로드할 수 있는지 테스트해보도록 하겠습니다.<br>\n",
    "예시로 사용하고 있는 벡터스토어는 Chroma로 벡터스토어마다 방법이 다르니 쓰시는 구조에 맞춰 공식 문서에서 검색하셔야 합니다.<br>\n",
    "\n",
    "Chroma의 경우 맨 처음 벡터스토어를 설정할 때 persist_directory를 설정하여 벡터스토어를 저장할 수 있습니다."
   ],
   "id": "7e3865d5651d2f0b"
  },
  {
   "metadata": {
    "ExecuteTime": {
     "end_time": "2024-07-06T07:47:51.454973Z",
     "start_time": "2024-07-06T07:47:50.630413Z"
    }
   },
   "cell_type": "code",
   "source": [
    "# 실행 때 지정해야 저장됨\n",
    "vectorstore = Chroma.from_documents(\n",
    "    documents, # 정의해둔 문서를 사용\n",
    "    embedding=OpenAIEmbeddings(), # OpenAI 임베딩 사용\n",
    "    persist_directory=\"./chroma_db\") # 저장 경로 설정"
   ],
   "id": "d17b16842e70d93a",
   "outputs": [],
   "execution_count": 10
  },
  {
   "metadata": {
    "ExecuteTime": {
     "end_time": "2024-07-06T07:47:51.778908Z",
     "start_time": "2024-07-06T07:47:51.456427Z"
    }
   },
   "cell_type": "code",
   "source": [
    "# add_text한 것이기 때문에 shrimp 관련 내용이나 업데이트, 딜리트한 내용은 사라짐\n",
    "await vectorstore.asimilarity_search(\"shrimp\")"
   ],
   "id": "daa0a185425ad57e",
   "outputs": [
    {
     "data": {
      "text/plain": [
       "[Document(page_content='Goldfish are popular pets for beginners, requiring relatively simple care.', metadata={'source': 'fish-pets-doc'}),\n",
       " Document(page_content='Parrots are intelligent birds capable of mimicking human speech.', metadata={'source': 'bird-pets-doc'}),\n",
       " Document(page_content='Rabbits are social animals that need plenty of space to hop around.', metadata={'source': 'mammal-pets-doc'}),\n",
       " Document(page_content='Dogs are great companions, known for their loyalty and friendliness.', metadata={'source': 'mammal-pets-doc'})]"
      ]
     },
     "execution_count": 11,
     "metadata": {},
     "output_type": "execute_result"
    }
   ],
   "execution_count": 11
  },
  {
   "metadata": {
    "ExecuteTime": {
     "end_time": "2024-07-06T07:47:52.080565Z",
     "start_time": "2024-07-06T07:47:51.781037Z"
    }
   },
   "cell_type": "code",
   "source": [
    "# 다시 애드해둔다면?\n",
    "vectorstore.add_texts([\"Shrimps are so delicious\"])"
   ],
   "id": "67d18b7a045455e",
   "outputs": [
    {
     "data": {
      "text/plain": [
       "['dcf2b41c-5828-49d6-a977-853d9abc22ee']"
      ]
     },
     "execution_count": 12,
     "metadata": {},
     "output_type": "execute_result"
    }
   ],
   "execution_count": 12
  },
  {
   "metadata": {},
   "cell_type": "markdown",
   "source": "저장된 벡터스토어는 다음과 같이 로드할 수 있습니다.",
   "id": "7692e44095d68223"
  },
  {
   "metadata": {
    "ExecuteTime": {
     "end_time": "2024-07-06T07:47:52.597277Z",
     "start_time": "2024-07-06T07:47:52.084589Z"
    }
   },
   "cell_type": "code",
   "source": [
    "vectorstore_load = Chroma(persist_directory=\"./chroma_db\", embedding_function=OpenAIEmbeddings())\n",
    "# 다시 애드하면 다행히 있다!\n",
    "await vectorstore_load.asimilarity_search(\"shrimp\")"
   ],
   "id": "f2ad156aacbb4339",
   "outputs": [
    {
     "data": {
      "text/plain": [
       "[Document(page_content='Shrimps are so delicious'),\n",
       " Document(page_content='Goldfish are popular pets for beginners, requiring relatively simple care.', metadata={'source': 'fish-pets-doc'}),\n",
       " Document(page_content='Parrots are intelligent birds capable of mimicking human speech.', metadata={'source': 'bird-pets-doc'}),\n",
       " Document(page_content='Rabbits are social animals that need plenty of space to hop around.', metadata={'source': 'mammal-pets-doc'})]"
      ]
     },
     "execution_count": 13,
     "metadata": {},
     "output_type": "execute_result"
    }
   ],
   "execution_count": 13
  }
 ],
 "metadata": {
  "kernelspec": {
   "display_name": "Python 3",
   "language": "python",
   "name": "python3"
  },
  "language_info": {
   "codemirror_mode": {
    "name": "ipython",
    "version": 2
   },
   "file_extension": ".py",
   "mimetype": "text/x-python",
   "name": "python",
   "nbconvert_exporter": "python",
   "pygments_lexer": "ipython2",
   "version": "2.7.6"
  }
 },
 "nbformat": 4,
 "nbformat_minor": 5
}
