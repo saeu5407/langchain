{
 "cells": [
  {
   "metadata": {
    "ExecuteTime": {
     "end_time": "2024-07-14T05:57:12.079701Z",
     "start_time": "2024-07-14T05:57:12.054906Z"
    }
   },
   "cell_type": "code",
   "source": [
    "from dotenv import load_dotenv\n",
    "\n",
    "load_dotenv()"
   ],
   "id": "initial_id",
   "outputs": [
    {
     "data": {
      "text/plain": [
       "True"
      ]
     },
     "execution_count": 1,
     "metadata": {},
     "output_type": "execute_result"
    }
   ],
   "execution_count": 1
  },
  {
   "metadata": {},
   "cell_type": "markdown",
   "source": [
    "이전 벡터스토어 예제에서 /chroma_db에 Chroma를 저장까지 했다는 가정하에 실습을 진행하도록 하겠습니다. <br>\n",
    "벡터스토어는 먼저 로드해두겠습니다."
   ],
   "id": "3378f536d604814f"
  },
  {
   "metadata": {
    "ExecuteTime": {
     "end_time": "2024-07-14T05:57:14.984873Z",
     "start_time": "2024-07-14T05:57:12.083297Z"
    }
   },
   "cell_type": "code",
   "source": [
    "from langchain_chroma import Chroma\n",
    "from langchain_openai import OpenAIEmbeddings\n",
    "\n",
    "vectorstore = Chroma(persist_directory=\"./chroma_db\", \n",
    "                     embedding_function=OpenAIEmbeddings())"
   ],
   "id": "32652ac0ec77febe",
   "outputs": [],
   "execution_count": 2
  },
  {
   "metadata": {},
   "cell_type": "markdown",
   "source": [
    "# Retriever\n",
    "\n",
    "랭체인에서 VectorStore 객체는 Runnable 객체가 아니라 LangChain Expression Language chains에 연결이 되지 않지만, Retriever는 Runnable 객체이므로 바로 LCEL 체인에 적용될 수 있습니다. <br>"
   ],
   "id": "822b819800d5a8a"
  },
  {
   "metadata": {},
   "cell_type": "markdown",
   "source": [
    "## RunnableLambda를 사용한 구현\n",
    "\n",
    "이제 RunnableLambda를 사용하여 간단한 리트리버를 구현해보겠습니다. <br>\n",
    "벡터스토어 내의 유사도 분석 메서드를 사용했습니다."
   ],
   "id": "27ddaad2ade0ef99"
  },
  {
   "metadata": {
    "ExecuteTime": {
     "end_time": "2024-07-14T05:57:16.232724Z",
     "start_time": "2024-07-14T05:57:14.986467Z"
    }
   },
   "cell_type": "code",
   "source": [
    "from typing import List\n",
    "\n",
    "from langchain_core.documents import Document\n",
    "from langchain_core.runnables import RunnableLambda\n",
    "\n",
    "retriever = RunnableLambda(vectorstore.similarity_search).bind(k=1)  # select top result\n",
    "\n",
    "retriever.batch([\"cat\", \"shark\"])"
   ],
   "id": "e66618c014ba0f38",
   "outputs": [
    {
     "data": {
      "text/plain": [
       "[[Document(page_content='Cats are independent pets that often enjoy their own space.', metadata={'source': 'mammal-pets-doc'})],\n",
       " [Document(page_content='Shrimps are so delicious')]]"
      ]
     },
     "execution_count": 3,
     "metadata": {},
     "output_type": "execute_result"
    }
   ],
   "execution_count": 3
  },
  {
   "metadata": {},
   "cell_type": "markdown",
   "source": [
    "## 벡터스토어 as_retriever 메서드로 바로 구현\n",
    "\n",
    "벡터스토어에는 as_retriever라는 메서드를 사용하여 간단하게 리트리버를 구현할 수 있습니다. <br>\n",
    "이 때는 당연히 러너블람다로 객체를 감쌀 필요가 없습니다. 이미 러너블로 구현되어 있으니까요. <br>\n",
    "\n",
    "벡터스토어는 다양한 retriever 서치 방법을 구현했는데요. 유사도 기반이나 MMR 등 다양한 방법이 있으며 벡터스토어마다 방식이 다를 수 있으니 사용하는 벡터스토어의 공식 문서에서 확인해보는것이 좋을 것 같습니다."
   ],
   "id": "d62adecfd4d6ad98"
  },
  {
   "metadata": {
    "ExecuteTime": {
     "end_time": "2024-07-14T05:57:16.593954Z",
     "start_time": "2024-07-14T05:57:16.237362Z"
    }
   },
   "cell_type": "code",
   "source": [
    "retriever = vectorstore.as_retriever(\n",
    "    search_type=\"similarity\",\n",
    "    search_kwargs={\"k\": 1},\n",
    ")\n",
    "\n",
    "retriever.batch([\"cat\", \"shark\"])"
   ],
   "id": "99616252455f9c2c",
   "outputs": [
    {
     "data": {
      "text/plain": [
       "[[Document(page_content='Cats are independent pets that often enjoy their own space.', metadata={'source': 'mammal-pets-doc'})],\n",
       " [Document(page_content='Shrimps are so delicious')]]"
      ]
     },
     "execution_count": 4,
     "metadata": {},
     "output_type": "execute_result"
    }
   ],
   "execution_count": 4
  },
  {
   "metadata": {},
   "cell_type": "markdown",
   "source": [
    "## LCEL 연결해보기\n",
    "\n",
    "이제 retriever를 만들어보았으니 체인에 연결해보는 작업을 진행해보겠습니다."
   ],
   "id": "197bd6514d44cf72"
  },
  {
   "metadata": {
    "ExecuteTime": {
     "end_time": "2024-07-14T05:57:16.739245Z",
     "start_time": "2024-07-14T05:57:16.596333Z"
    }
   },
   "cell_type": "code",
   "source": [
    "from langchain_openai import ChatOpenAI\n",
    "import os\n",
    "\n",
    "os.environ[\"OPENAI_API_KEY\"] = os.getenv(\"OPENAI_API_KEY\")\n",
    "llm = ChatOpenAI(\n",
    "    model_name=\"gpt-3.5-turbo\",\n",
    "    api_key=os.getenv('OPENAI_API_KEY'),\n",
    "    max_tokens=1000,\n",
    ")"
   ],
   "id": "e88003bd3d50364f",
   "outputs": [],
   "execution_count": 5
  },
  {
   "metadata": {},
   "cell_type": "markdown",
   "source": "프롬프트를 설정하고 Retriever를 연결하여 질문에 대해 리트리버를 통해 Context를 생성한 후 LLM이 응답하는 형식으로 체인을 구현하였습니다.",
   "id": "d3c9b74c8d80e3a9"
  },
  {
   "metadata": {
    "ExecuteTime": {
     "end_time": "2024-07-14T05:57:16.750896Z",
     "start_time": "2024-07-14T05:57:16.745330Z"
    }
   },
   "cell_type": "code",
   "source": [
    "from langchain_core.prompts import ChatPromptTemplate\n",
    "from langchain_core.runnables import RunnablePassthrough\n",
    "\n",
    "message = \"\"\"\n",
    "Answer this question using the provided context only.\n",
    "\n",
    "{question}\n",
    "\n",
    "Context:\n",
    "{context}\n",
    "\"\"\"\n",
    "\n",
    "prompt = ChatPromptTemplate.from_messages([(\"human\", message)])\n",
    "\n",
    "rag_chain = {\"context\": retriever, \"question\": RunnablePassthrough()} | prompt | llm"
   ],
   "id": "5152a7e7d0687d17",
   "outputs": [],
   "execution_count": 6
  },
  {
   "metadata": {},
   "cell_type": "markdown",
   "source": "문서에서 데이터를 가져와 적절하게 대답하는 걸 확인할 수 있습니다.",
   "id": "b1125eb7171e4e8a"
  },
  {
   "metadata": {
    "ExecuteTime": {
     "end_time": "2024-07-14T05:57:36.180580Z",
     "start_time": "2024-07-14T05:57:34.876990Z"
    }
   },
   "cell_type": "code",
   "source": [
    "response = rag_chain.invoke(\"tell me about cats\")\n",
    "\n",
    "print(response.content)"
   ],
   "id": "bde03d8e91482fde",
   "outputs": [
    {
     "name": "stdout",
     "output_type": "stream",
     "text": [
      "Cats are independent pets that often enjoy their own space.\n"
     ]
    }
   ],
   "execution_count": 7
  },
  {
   "metadata": {},
   "cell_type": "markdown",
   "source": [
    "Retriever에 대해서는 다양한 예제가 많으므로 공식 문서를 잘 살펴보는 것이 좋을 것 같습니다. <br>\n",
    "공식 문서 링크는 다음과 같습니다. <br>\n",
    "\n",
    "https://python.langchain.com/v0.2/docs/how_to/#retrievers"
   ],
   "id": "c0b528bfff3e0af7"
  }
 ],
 "metadata": {
  "kernelspec": {
   "display_name": "Python 3",
   "language": "python",
   "name": "python3"
  },
  "language_info": {
   "codemirror_mode": {
    "name": "ipython",
    "version": 2
   },
   "file_extension": ".py",
   "mimetype": "text/x-python",
   "name": "python",
   "nbconvert_exporter": "python",
   "pygments_lexer": "ipython2",
   "version": "2.7.6"
  }
 },
 "nbformat": 4,
 "nbformat_minor": 5
}
